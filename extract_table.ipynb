{
 "cells": [
  {
   "cell_type": "code",
   "execution_count": 13,
   "metadata": {},
   "outputs": [],
   "source": [
    "# !pip install camelot-py"
   ]
  },
  {
   "cell_type": "code",
   "execution_count": 14,
   "metadata": {},
   "outputs": [
    {
     "ename": "ImportError",
     "evalue": "/home/kparth/anaconda3/envs/nlp/lib/python3.12/site-packages/../.././libgomp.so.1: version `GOMP_4.5' not found (required by /home/kparth/anaconda3/envs/nlp/lib/python3.12/site-packages/../../libopencv_intensity_transform.so.409)",
     "output_type": "error",
     "traceback": [
      "\u001b[0;31m---------------------------------------------------------------------------\u001b[0m",
      "\u001b[0;31mImportError\u001b[0m                               Traceback (most recent call last)",
      "Cell \u001b[0;32mIn[14], line 1\u001b[0m\n\u001b[0;32m----> 1\u001b[0m \u001b[38;5;28;01mimport\u001b[39;00m \u001b[38;5;21;01mcamelot\u001b[39;00m\n\u001b[1;32m      3\u001b[0m \u001b[38;5;66;03m# extract all the tables in the PDF file\u001b[39;00m\n\u001b[1;32m      4\u001b[0m abc \u001b[38;5;241m=\u001b[39m camelot\u001b[38;5;241m.\u001b[39mread_pdf(\u001b[38;5;124m\"\u001b[39m\u001b[38;5;124mdata/eeg.pdf\u001b[39m\u001b[38;5;124m\"\u001b[39m) \u001b[38;5;66;03m#address of file location\u001b[39;00m\n",
      "File \u001b[0;32m~/anaconda3/envs/nlp/lib/python3.12/site-packages/camelot/__init__.py:6\u001b[0m\n\u001b[1;32m      3\u001b[0m \u001b[38;5;28;01mimport\u001b[39;00m \u001b[38;5;21;01mlogging\u001b[39;00m\n\u001b[1;32m      5\u001b[0m \u001b[38;5;28;01mfrom\u001b[39;00m \u001b[38;5;21;01m.\u001b[39;00m\u001b[38;5;21;01m__version__\u001b[39;00m \u001b[38;5;28;01mimport\u001b[39;00m __version__\n\u001b[0;32m----> 6\u001b[0m \u001b[38;5;28;01mfrom\u001b[39;00m \u001b[38;5;21;01m.\u001b[39;00m\u001b[38;5;21;01mio\u001b[39;00m \u001b[38;5;28;01mimport\u001b[39;00m read_pdf\n\u001b[1;32m      7\u001b[0m \u001b[38;5;28;01mfrom\u001b[39;00m \u001b[38;5;21;01m.\u001b[39;00m\u001b[38;5;21;01mplotting\u001b[39;00m \u001b[38;5;28;01mimport\u001b[39;00m PlotMethods\n\u001b[1;32m     10\u001b[0m \u001b[38;5;66;03m# set up logging\u001b[39;00m\n",
      "File \u001b[0;32m~/anaconda3/envs/nlp/lib/python3.12/site-packages/camelot/io.py:5\u001b[0m\n\u001b[1;32m      1\u001b[0m \u001b[38;5;66;03m# -*- coding: utf-8 -*-\u001b[39;00m\n\u001b[1;32m      3\u001b[0m \u001b[38;5;28;01mimport\u001b[39;00m \u001b[38;5;21;01mwarnings\u001b[39;00m\n\u001b[0;32m----> 5\u001b[0m \u001b[38;5;28;01mfrom\u001b[39;00m \u001b[38;5;21;01m.\u001b[39;00m\u001b[38;5;21;01mhandlers\u001b[39;00m \u001b[38;5;28;01mimport\u001b[39;00m PDFHandler\n\u001b[1;32m      6\u001b[0m \u001b[38;5;28;01mfrom\u001b[39;00m \u001b[38;5;21;01m.\u001b[39;00m\u001b[38;5;21;01mutils\u001b[39;00m \u001b[38;5;28;01mimport\u001b[39;00m validate_input, remove_extra\n\u001b[1;32m      9\u001b[0m \u001b[38;5;28;01mdef\u001b[39;00m \u001b[38;5;21mread_pdf\u001b[39m(\n\u001b[1;32m     10\u001b[0m     filepath,\n\u001b[1;32m     11\u001b[0m     pages\u001b[38;5;241m=\u001b[39m\u001b[38;5;124m\"\u001b[39m\u001b[38;5;124m1\u001b[39m\u001b[38;5;124m\"\u001b[39m,\n\u001b[0;32m   (...)\u001b[0m\n\u001b[1;32m     16\u001b[0m     \u001b[38;5;241m*\u001b[39m\u001b[38;5;241m*\u001b[39mkwargs\n\u001b[1;32m     17\u001b[0m ):\n",
      "File \u001b[0;32m~/anaconda3/envs/nlp/lib/python3.12/site-packages/camelot/handlers.py:9\u001b[0m\n\u001b[1;32m      6\u001b[0m \u001b[38;5;28;01mfrom\u001b[39;00m \u001b[38;5;21;01mpypdf\u001b[39;00m \u001b[38;5;28;01mimport\u001b[39;00m PdfReader, PdfWriter\n\u001b[1;32m      8\u001b[0m \u001b[38;5;28;01mfrom\u001b[39;00m \u001b[38;5;21;01m.\u001b[39;00m\u001b[38;5;21;01mcore\u001b[39;00m \u001b[38;5;28;01mimport\u001b[39;00m TableList\n\u001b[0;32m----> 9\u001b[0m \u001b[38;5;28;01mfrom\u001b[39;00m \u001b[38;5;21;01m.\u001b[39;00m\u001b[38;5;21;01mparsers\u001b[39;00m \u001b[38;5;28;01mimport\u001b[39;00m Stream, Lattice\n\u001b[1;32m     10\u001b[0m \u001b[38;5;28;01mfrom\u001b[39;00m \u001b[38;5;21;01m.\u001b[39;00m\u001b[38;5;21;01mutils\u001b[39;00m \u001b[38;5;28;01mimport\u001b[39;00m (\n\u001b[1;32m     11\u001b[0m     TemporaryDirectory,\n\u001b[1;32m     12\u001b[0m     get_page_layout,\n\u001b[0;32m   (...)\u001b[0m\n\u001b[1;32m     16\u001b[0m     download_url,\n\u001b[1;32m     17\u001b[0m )\n\u001b[1;32m     20\u001b[0m \u001b[38;5;28;01mclass\u001b[39;00m \u001b[38;5;21;01mPDFHandler\u001b[39;00m(\u001b[38;5;28mobject\u001b[39m):\n",
      "File \u001b[0;32m~/anaconda3/envs/nlp/lib/python3.12/site-packages/camelot/parsers/__init__.py:4\u001b[0m\n\u001b[1;32m      1\u001b[0m \u001b[38;5;66;03m# -*- coding: utf-8 -*-\u001b[39;00m\n\u001b[1;32m      3\u001b[0m \u001b[38;5;28;01mfrom\u001b[39;00m \u001b[38;5;21;01m.\u001b[39;00m\u001b[38;5;21;01mstream\u001b[39;00m \u001b[38;5;28;01mimport\u001b[39;00m Stream\n\u001b[0;32m----> 4\u001b[0m \u001b[38;5;28;01mfrom\u001b[39;00m \u001b[38;5;21;01m.\u001b[39;00m\u001b[38;5;21;01mlattice\u001b[39;00m \u001b[38;5;28;01mimport\u001b[39;00m Lattice\n",
      "File \u001b[0;32m~/anaconda3/envs/nlp/lib/python3.12/site-packages/camelot/parsers/lattice.py:25\u001b[0m\n\u001b[1;32m     14\u001b[0m \u001b[38;5;28;01mfrom\u001b[39;00m \u001b[38;5;21;01m.\u001b[39;00m\u001b[38;5;21;01m.\u001b[39;00m\u001b[38;5;21;01mcore\u001b[39;00m \u001b[38;5;28;01mimport\u001b[39;00m Table\n\u001b[1;32m     15\u001b[0m \u001b[38;5;28;01mfrom\u001b[39;00m \u001b[38;5;21;01m.\u001b[39;00m\u001b[38;5;21;01m.\u001b[39;00m\u001b[38;5;21;01mutils\u001b[39;00m \u001b[38;5;28;01mimport\u001b[39;00m (\n\u001b[1;32m     16\u001b[0m     scale_image,\n\u001b[1;32m     17\u001b[0m     scale_pdf,\n\u001b[0;32m   (...)\u001b[0m\n\u001b[1;32m     23\u001b[0m     compute_whitespace,\n\u001b[1;32m     24\u001b[0m )\n\u001b[0;32m---> 25\u001b[0m \u001b[38;5;28;01mfrom\u001b[39;00m \u001b[38;5;21;01m.\u001b[39;00m\u001b[38;5;21;01m.\u001b[39;00m\u001b[38;5;21;01mimage_processing\u001b[39;00m \u001b[38;5;28;01mimport\u001b[39;00m (\n\u001b[1;32m     26\u001b[0m     adaptive_threshold,\n\u001b[1;32m     27\u001b[0m     find_lines,\n\u001b[1;32m     28\u001b[0m     find_contours,\n\u001b[1;32m     29\u001b[0m     find_joints,\n\u001b[1;32m     30\u001b[0m )\n\u001b[1;32m     31\u001b[0m \u001b[38;5;28;01mfrom\u001b[39;00m \u001b[38;5;21;01m.\u001b[39;00m\u001b[38;5;21;01m.\u001b[39;00m\u001b[38;5;21;01mbackends\u001b[39;00m\u001b[38;5;21;01m.\u001b[39;00m\u001b[38;5;21;01mimage_conversion\u001b[39;00m \u001b[38;5;28;01mimport\u001b[39;00m BACKENDS\n\u001b[1;32m     34\u001b[0m logger \u001b[38;5;241m=\u001b[39m logging\u001b[38;5;241m.\u001b[39mgetLogger(\u001b[38;5;124m\"\u001b[39m\u001b[38;5;124mcamelot\u001b[39m\u001b[38;5;124m\"\u001b[39m)\n",
      "File \u001b[0;32m~/anaconda3/envs/nlp/lib/python3.12/site-packages/camelot/image_processing.py:3\u001b[0m\n\u001b[1;32m      1\u001b[0m \u001b[38;5;66;03m# -*- coding: utf-8 -*-\u001b[39;00m\n\u001b[0;32m----> 3\u001b[0m \u001b[38;5;28;01mimport\u001b[39;00m \u001b[38;5;21;01mcv2\u001b[39;00m\n\u001b[1;32m      4\u001b[0m \u001b[38;5;28;01mimport\u001b[39;00m \u001b[38;5;21;01mnumpy\u001b[39;00m \u001b[38;5;28;01mas\u001b[39;00m \u001b[38;5;21;01mnp\u001b[39;00m\n\u001b[1;32m      7\u001b[0m \u001b[38;5;28;01mdef\u001b[39;00m \u001b[38;5;21madaptive_threshold\u001b[39m(imagename, process_background\u001b[38;5;241m=\u001b[39m\u001b[38;5;28;01mFalse\u001b[39;00m, blocksize\u001b[38;5;241m=\u001b[39m\u001b[38;5;241m15\u001b[39m, c\u001b[38;5;241m=\u001b[39m\u001b[38;5;241m-\u001b[39m\u001b[38;5;241m2\u001b[39m):\n",
      "\u001b[0;31mImportError\u001b[0m: /home/kparth/anaconda3/envs/nlp/lib/python3.12/site-packages/../.././libgomp.so.1: version `GOMP_4.5' not found (required by /home/kparth/anaconda3/envs/nlp/lib/python3.12/site-packages/../../libopencv_intensity_transform.so.409)"
     ]
    }
   ],
   "source": [
    "import camelot\n",
    "\n",
    "# extract all the tables in the PDF file\n",
    "abc = camelot.read_pdf(\"data/eeg.pdf\") #address of file location\n",
    "\n",
    "# print the first table as Pandas DataFrame\n",
    "print(abc[0].df)\n"
   ]
  },
  {
   "cell_type": "code",
   "execution_count": 1,
   "metadata": {},
   "outputs": [
    {
     "name": "stdout",
     "output_type": "stream",
     "text": [
      "Requirement already satisfied: tabula-py in c:\\users\\91701\\anaconda3\\lib\\site-packages (2.9.0)\n",
      "Requirement already satisfied: pandas>=0.25.3 in c:\\users\\91701\\anaconda3\\lib\\site-packages (from tabula-py) (1.5.3)\n",
      "Requirement already satisfied: distro in c:\\users\\91701\\anaconda3\\lib\\site-packages (from tabula-py) (1.9.0)\n",
      "Requirement already satisfied: numpy in c:\\users\\91701\\anaconda3\\lib\\site-packages (from tabula-py) (1.23.5)\n",
      "Requirement already satisfied: pytz>=2020.1 in c:\\users\\91701\\anaconda3\\lib\\site-packages (from pandas>=0.25.3->tabula-py) (2022.7)\n",
      "Requirement already satisfied: python-dateutil>=2.8.1 in c:\\users\\91701\\anaconda3\\lib\\site-packages (from pandas>=0.25.3->tabula-py) (2.8.2)\n",
      "Requirement already satisfied: six>=1.5 in c:\\users\\91701\\anaconda3\\lib\\site-packages (from python-dateutil>=2.8.1->pandas>=0.25.3->tabula-py) (1.16.0)\n"
     ]
    }
   ],
   "source": [
    "!pip install tabula-py"
   ]
  },
  {
   "cell_type": "code",
   "execution_count": 2,
   "metadata": {},
   "outputs": [
    {
     "name": "stdout",
     "output_type": "stream",
     "text": [
      "Requirement already satisfied: tabulate in c:\\users\\91701\\anaconda3\\lib\\site-packages (0.8.10)\n"
     ]
    }
   ],
   "source": [
    "!pip install tabulate"
   ]
  },
  {
   "cell_type": "code",
   "execution_count": 4,
   "metadata": {},
   "outputs": [
    {
     "name": "stdout",
     "output_type": "stream",
     "text": [
      "-------------------------  -----------------------------------  ----------------------------  ---------------------------\n",
      "0    1                     0                     Capturing EEG  0     8\n",
      "1    2                     1                   MindWave Mobile  1    13\n",
      "2    3                     2    Subject during data collection  2    14\n",
      "3    4                     3                   Gated LSTM Cell  3    15\n",
      "4    5                     4                       KNN Diagram  4    16\n",
      "5    6                     5             Random Forest Diagram  5    17\n",
      "6    7                     6                          Data Set  6    18\n",
      "7    8                     7                 Human Brain Waves  7    19\n",
      "Name: S.No., dtype: int64  Name: Figures, dtype: object         Name: Page No., dtype: int64\n",
      "0    1                                                          0    21                       0    Result Table\n",
      "Name: S.No., dtype: int64                                       Name: Page No., dtype: int64  Name: Tables, dtype: object\n",
      "-------------------------  -----------------------------------  ----------------------------  ---------------------------\n"
     ]
    }
   ],
   "source": [
    "from tabula import read_pdf\n",
    "from tabulate import tabulate\n",
    "\n",
    "#reads table from pdf file\n",
    "df = read_pdf(\"data/eeg.pdf\",pages=5) #address of pdf file\n",
    "print(tabulate(df))"
   ]
  },
  {
   "cell_type": "code",
   "execution_count": 16,
   "metadata": {},
   "outputs": [
    {
     "data": {
      "text/plain": [
       "[   S.No.                         Figures  Page No.\n",
       " 0      1                   Capturing EEG         8\n",
       " 1      2                 MindWave Mobile        13\n",
       " 2      3  Subject during data collection        14\n",
       " 3      4                 Gated LSTM Cell        15\n",
       " 4      5                     KNN Diagram        16\n",
       " 5      6           Random Forest Diagram        17\n",
       " 6      7                        Data Set        18\n",
       " 7      8               Human Brain Waves        19,\n",
       "    S.No.        Tables  Page No.\n",
       " 0      1  Result Table        21]"
      ]
     },
     "execution_count": 16,
     "metadata": {},
     "output_type": "execute_result"
    }
   ],
   "source": [
    "df"
   ]
  },
  {
   "cell_type": "code",
   "execution_count": 17,
   "metadata": {},
   "outputs": [
    {
     "name": "stdout",
     "output_type": "stream",
     "text": [
      "   S.No.                         Figures  Page No.\n",
      "0      1                   Capturing EEG         8\n",
      "1      2                 MindWave Mobile        13\n",
      "2      3  Subject during data collection        14\n",
      "3      4                 Gated LSTM Cell        15\n",
      "4      5                     KNN Diagram        16\n",
      "5      6           Random Forest Diagram        17\n",
      "6      7                        Data Set        18\n",
      "7      8               Human Brain Waves        19\n"
     ]
    }
   ],
   "source": [
    "from tabula import read_pdf\n",
    "\n",
    "# Read table from PDF file\n",
    "df = read_pdf(\"data/eeg.pdf\", pages=5)  # Provide the correct file path and page number\n",
    "\n",
    "# Convert tabula-py DataFrame to pandas DataFrame\n",
    "df_pandas = df[0]  # Assuming df is a list containing DataFrame(s), get the first DataFrame\n",
    "\n",
    "# Print the pandas DataFrame\n",
    "print(df_pandas)\n"
   ]
  },
  {
   "cell_type": "code",
   "execution_count": 23,
   "metadata": {},
   "outputs": [
    {
     "data": {
      "text/html": [
       "<div>\n",
       "<style scoped>\n",
       "    .dataframe tbody tr th:only-of-type {\n",
       "        vertical-align: middle;\n",
       "    }\n",
       "\n",
       "    .dataframe tbody tr th {\n",
       "        vertical-align: top;\n",
       "    }\n",
       "\n",
       "    .dataframe thead th {\n",
       "        text-align: right;\n",
       "    }\n",
       "</style>\n",
       "<table border=\"1\" class=\"dataframe\">\n",
       "  <thead>\n",
       "    <tr style=\"text-align: right;\">\n",
       "      <th></th>\n",
       "      <th>Figures</th>\n",
       "    </tr>\n",
       "  </thead>\n",
       "  <tbody>\n",
       "    <tr>\n",
       "      <th>0</th>\n",
       "      <td>Capturing EEG</td>\n",
       "    </tr>\n",
       "    <tr>\n",
       "      <th>1</th>\n",
       "      <td>MindWave Mobile</td>\n",
       "    </tr>\n",
       "    <tr>\n",
       "      <th>2</th>\n",
       "      <td>Subject during data collection</td>\n",
       "    </tr>\n",
       "    <tr>\n",
       "      <th>3</th>\n",
       "      <td>Gated LSTM Cell</td>\n",
       "    </tr>\n",
       "    <tr>\n",
       "      <th>4</th>\n",
       "      <td>KNN Diagram</td>\n",
       "    </tr>\n",
       "    <tr>\n",
       "      <th>5</th>\n",
       "      <td>Random Forest Diagram</td>\n",
       "    </tr>\n",
       "    <tr>\n",
       "      <th>6</th>\n",
       "      <td>Data Set</td>\n",
       "    </tr>\n",
       "    <tr>\n",
       "      <th>7</th>\n",
       "      <td>Human Brain Waves</td>\n",
       "    </tr>\n",
       "  </tbody>\n",
       "</table>\n",
       "</div>"
      ],
      "text/plain": [
       "                          Figures\n",
       "0                   Capturing EEG\n",
       "1                 MindWave Mobile\n",
       "2  Subject during data collection\n",
       "3                 Gated LSTM Cell\n",
       "4                     KNN Diagram\n",
       "5           Random Forest Diagram\n",
       "6                        Data Set\n",
       "7               Human Brain Waves"
      ]
     },
     "execution_count": 23,
     "metadata": {},
     "output_type": "execute_result"
    }
   ],
   "source": [
    "df_pandas.iloc[::,-2]"
   ]
  },
  {
   "cell_type": "markdown",
   "metadata": {},
   "source": [
    "Extracting images from the PDF"
   ]
  },
  {
   "cell_type": "code",
   "execution_count": 21,
   "metadata": {},
   "outputs": [
    {
     "name": "stdout",
     "output_type": "stream",
     "text": [
      "Collecting Spire.PDF\n",
      "  Downloading Spire.Pdf-10.2.0-py3-none-manylinux1_x86_64.whl.metadata (6.8 kB)\n",
      "Collecting plum-dispatch==1.7.4 (from Spire.PDF)\n",
      "  Downloading plum_dispatch-1.7.4-py3-none-any.whl.metadata (1.8 kB)\n",
      "Downloading Spire.Pdf-10.2.0-py3-none-manylinux1_x86_64.whl (41.5 MB)\n",
      "\u001b[2K   \u001b[38;2;114;156;31m━━━━━━━━━━━━━━━━━━━━━━━━━━━━━━━━━━━━━━━━\u001b[0m \u001b[32m41.5/41.5 MB\u001b[0m \u001b[31m7.2 MB/s\u001b[0m eta \u001b[36m0:00:00\u001b[0mm eta \u001b[36m0:00:01\u001b[0m[36m0:00:01\u001b[0m\n",
      "\u001b[?25hDownloading plum_dispatch-1.7.4-py3-none-any.whl (24 kB)\n",
      "Installing collected packages: plum-dispatch, Spire.PDF\n",
      "Successfully installed Spire.PDF-10.2.0 plum-dispatch-1.7.4\n",
      "Note: you may need to restart the kernel to use updated packages.\n"
     ]
    }
   ],
   "source": [
    "pip install Spire.PDF\n"
   ]
  },
  {
   "cell_type": "code",
   "execution_count": 23,
   "metadata": {},
   "outputs": [],
   "source": [
    "from spire.pdf.common import *\n",
    "from spire.pdf import *\n",
    "\n",
    "# Create a PdfDocument object\n",
    "doc = PdfDocument()\n",
    "\n",
    "# Load a PDF document\n",
    "doc.LoadFromFile('data/eeg.pdf')\n",
    "  \n",
    "images = []\n",
    "\n",
    "# Loop through the pages in the document\n",
    "for i in range(doc.Pages.Count):\n",
    "    page = doc.Pages.get_Item(i)\n",
    "\n",
    "    # Extract images from a specific page\n",
    "    for image in page.ExtractImages():\n",
    "        images.append(image)\n",
    "\n",
    "# Save images to specified location with specified format extension\n",
    "index = 0\n",
    "for image in images:\n",
    "    imageFileName = 'images/Image-{0:d}.png'.format(index)\n",
    "    index += 1\n",
    "    image.Save(imageFileName, ImageFormat.get_Png())\n",
    "doc.Close()"
   ]
  }
 ],
 "metadata": {
  "kernelspec": {
   "display_name": "Python 3 (ipykernel)",
   "language": "python",
   "name": "python3"
  },
  "language_info": {
   "codemirror_mode": {
    "name": "ipython",
    "version": 3
   },
   "file_extension": ".py",
   "mimetype": "text/x-python",
   "name": "python",
   "nbconvert_exporter": "python",
   "pygments_lexer": "ipython3",
   "version": "3.10.9"
  }
 },
 "nbformat": 4,
 "nbformat_minor": 2
}
